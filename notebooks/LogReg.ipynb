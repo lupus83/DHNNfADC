{
 "cells": [
  {
   "cell_type": "code",
   "execution_count": 3,
   "metadata": {},
   "outputs": [
    {
     "name": "stdout",
     "output_type": "stream",
     "text": [
      "If you use TorchIO for your research, please cite the following paper:\n",
      "Pérez-García et al., TorchIO: a Python library for efficient loading,\n",
      "preprocessing, augmentation and patch-based sampling of medical images\n",
      "in deep learning. Credits instructions: https://torchio.readthedocs.io/#credits\n",
      "\n"
     ]
    }
   ],
   "source": [
    "import sys\n",
    "sys.path.append('../.')\n",
    "from pathlib import Path\n",
    "import h5py\n",
    "import numpy as np\n",
    "import pandas as pd\n",
    "import patsy\n",
    "import pdb\n",
    "\n",
    "from utils import make_confusion_matrix,load_heterogeneous_data,split_data\n",
    "from pathlib import Path\n",
    "import utils\n",
    "from sklearn.linear_model import LogisticRegression\n",
    "from sklearn.metrics import accuracy_score, balanced_accuracy_score, confusion_matrix, plot_confusion_matrix, roc_auc_score, average_precision_score\n",
    "\n",
    "import statsmodels.api as sm\n",
    "from statsmodels.discrete.discrete_model import MNLogit, Logit\n",
    "\n",
    "seeds = [3707, 11730, 22229, 42732, 57446]\n",
    "\n",
    "def create_mat(dicc, path, figsize=(4,4.3)):\n",
    "    conf_mat = [[0, 0, 0], [0,0,0], [0,0,0]]\n",
    "    for i in range(len(conf_mat)):\n",
    "        for j in range(len(conf_mat[0])):\n",
    "            conf_mat[i][j] = sum([co['confusion_matrix'][i][j] for co in dicc])\n",
    "    sc = {'Balanced Accuracy': np.mean([x['balanced_accuracy'] for x in dicc])}\n",
    "    utils.make_confusion_matrix(np.array(conf_mat), categories=['CN', 'MCI', 'AD'], cbar=False, sum_stats=True, figsize=figsize, file_path=path, scores=sc)\n",
    "    return np.array(conf_mat)\n",
    "\n",
    "def create_mat_binary(dicc, path, figsize=(3,3.5)):\n",
    "    conf_mat = [[0, 0], [0,0]]\n",
    "    for i in range(len(conf_mat)):\n",
    "        for j in range(len(conf_mat[0])):\n",
    "            conf_mat[i][j] = sum([co['confusion_matrix'][i][j] for co in dicc])\n",
    "    sc = {'Balanced Accuracy': np.mean([x['balanced_accuracy'] for x in dicc]), \\\n",
    "         'ROC AUC': np.mean([x['roc_auc'] for x in dicc]), \\\n",
    "         'PR AUC': np.mean([x['average_precision'] for x in dicc])}\n",
    "    utils.make_confusion_matrix(np.array(conf_mat), categories=['CN', 'AD'], cbar=False, sum_stats=True, figsize=figsize, file_path=path, scores=sc)\n",
    "    return np.array(conf_mat)\n"
   ]
  },
  {
   "cell_type": "markdown",
   "metadata": {},
   "source": [
    "# 3 Classes"
   ]
  },
  {
   "cell_type": "code",
   "execution_count": 181,
   "metadata": {},
   "outputs": [],
   "source": [
    "adni = load_heterogeneous_data(\n",
    "    # PATH RERMOVED FOR PRIVACY,\n",
    "    # PATH RERMOVED FOR PRIVACY,\n",
    "    hippocampus='Left-Hippocampus', masking='vol_with_bg', visit_codes=True, label_coding={\"CN\": 0, \"MCI\": 1, \"Dementia\": 2}, filter_unreliable_data=True)"
   ]
  },
  {
   "cell_type": "code",
   "execution_count": 182,
   "metadata": {
    "scrolled": false
   },
   "outputs": [
    {
     "name": "stdout",
     "output_type": "stream",
     "text": [
      "Optimization terminated successfully.\n",
      "         Current function value: 0.875177\n",
      "         Iterations: 420\n",
      "         Function evaluations: 425\n",
      "         Gradient evaluations: 425\n",
      "Optimization terminated successfully.\n",
      "         Current function value: 0.888984\n",
      "         Iterations: 388\n",
      "         Function evaluations: 393\n",
      "         Gradient evaluations: 393\n",
      "Optimization terminated successfully.\n",
      "         Current function value: 0.876593\n",
      "         Iterations: 419\n",
      "         Function evaluations: 424\n",
      "         Gradient evaluations: 424\n",
      "Optimization terminated successfully.\n",
      "         Current function value: 0.898534\n",
      "         Iterations: 443\n",
      "         Function evaluations: 449\n",
      "         Gradient evaluations: 449\n",
      "Optimization terminated successfully.\n",
      "         Current function value: 0.883506\n",
      "         Iterations: 436\n",
      "         Function evaluations: 439\n",
      "         Gradient evaluations: 439\n",
      "BAcc: 52.64$\\pm$1.67\n",
      "[51.71, 51.74, 51.96, 55.97, 51.84]\n"
     ]
    },
    {
     "data": {
      "text/plain": [
       "array([[425, 307,  22],\n",
       "       [214, 575, 132],\n",
       "       [ 25, 204, 146]])"
      ]
     },
     "execution_count": 182,
     "metadata": {},
     "output_type": "execute_result"
    },
    {
     "data": {
      "image/png": "[encoded data removed]",
      "text/plain": [
       "<Figure size 288x309.6 with 1 Axes>"
      ]
     },
     "metadata": {
      "needs_background": "light"
     },
     "output_type": "display_data"
    }
   ],
   "source": [
    "results_adni = []\n",
    "\n",
    "for seed in seeds:\n",
    "    data = split_data(adni[0], groups=adni[1], visit_codes=adni[2], test_size=0.2, seed=seed)\n",
    "    out = 0\n",
    "    # train\n",
    "    d = data['train']\n",
    "    labels = np.array([d[i][2] for i in range(len(d))])\n",
    "    ex = np.array([np.array(item[1], dtype=np.float) for item in d])\n",
    "    model = MNLogit(endog=labels, exog=sm.add_constant(ex))\n",
    "    res = model.fit(maxiter=1000, method='bfgs', skip_hessian=True)\n",
    "\n",
    "    # test\n",
    "    d = data['test']\n",
    "    labels = np.array([d[i][2] for i in range(len(d))])\n",
    "    ex = np.array([np.array(item[1], dtype=np.float) for item in d])\n",
    "    out = res.predict(sm.add_constant(ex))\n",
    "    out = np.argmax(out, axis=1)\n",
    "    \n",
    "    # calc score and append\n",
    "    results_adni.append(\n",
    "        {'balanced_accuracy': balanced_accuracy_score(y_true=labels, y_pred=out),\n",
    "        'confusion_matrix': confusion_matrix(y_true=labels, y_pred=out)}\n",
    "    )\n",
    "    \n",
    "    \n",
    "print(f'BAcc: ' + utils.round_val(np.mean([item['balanced_accuracy'] for item in results_adni]))+ '$\\pm$'+  utils.round_val(np.std([item['balanced_accuracy'] for item in results_adni])))\n",
    "print([float(utils.round_val(x['balanced_accuracy'])) for x in results_adni])\n",
    "create_mat(results_adni, path='../figs/3LogRegADNI.pdf', figsize=(4,4.3))\n"
   ]
  },
  {
   "cell_type": "markdown",
   "metadata": {},
   "source": [
    "# 2 Classes"
   ]
  },
  {
   "cell_type": "code",
   "execution_count": 4,
   "metadata": {},
   "outputs": [],
   "source": [
    "adni = load_heterogeneous_data(\n",
    "    # PATH RERMOVED FOR PRIVACY,\n",
    "    # PATH RERMOVED FOR PRIVACY,\n",
    "    hippocampus='Left-Hippocampus', masking='vol_with_bg', visit_codes=True, label_coding={\"CN\": 0, \"Dementia\": 1}, filter_unreliable_data=False)"
   ]
  },
  {
   "cell_type": "code",
   "execution_count": 13,
   "metadata": {},
   "outputs": [
    {
     "name": "stdout",
     "output_type": "stream",
     "text": [
      "Optimization terminated successfully.\n",
      "         Current function value: 0.403434\n",
      "         Iterations: 229\n",
      "         Function evaluations: 234\n",
      "         Gradient evaluations: 234\n",
      "Optimization terminated successfully.\n",
      "         Current function value: 0.404989\n",
      "         Iterations: 284\n",
      "         Function evaluations: 288\n",
      "         Gradient evaluations: 288\n",
      "Optimization terminated successfully.\n",
      "         Current function value: 0.430845\n",
      "         Iterations: 206\n",
      "         Function evaluations: 210\n",
      "         Gradient evaluations: 210\n",
      "Optimization terminated successfully.\n",
      "         Current function value: 0.430702\n",
      "         Iterations: 243\n",
      "         Function evaluations: 247\n",
      "         Gradient evaluations: 247\n",
      "Optimization terminated successfully.\n",
      "         Current function value: 0.436821\n",
      "         Iterations: 222\n",
      "         Function evaluations: 226\n",
      "         Gradient evaluations: 226\n",
      "BAcc: 77.99$\\pm$1.50\n",
      "[76.3, 77.62, 80.8, 77.86, 77.37]\n"
     ]
    },
    {
     "data": {
      "text/plain": [
       "array([[734, 105],\n",
       "       [215, 466]])"
      ]
     },
     "execution_count": 13,
     "metadata": {},
     "output_type": "execute_result"
    },
    {
     "data": {
      "image/png": "[encoded data removed]",
      "text/plain": [
       "<Figure size 288x309.6 with 1 Axes>"
      ]
     },
     "metadata": {
      "needs_background": "light"
     },
     "output_type": "display_data"
    }
   ],
   "source": [
    "results_adni = []\n",
    "\n",
    "for seed in seeds:\n",
    "    data = split_data(adni[0], groups=adni[1], visit_codes=adni[2], test_size=0.2, seed=seed)\n",
    "    out = 0\n",
    "    # train\n",
    "    d = data['train']\n",
    "    labels = np.array([d[i][2] for i in range(len(d))])\n",
    "    ex = np.array([np.array(item[1], dtype=np.float) for item in d])\n",
    "    model = Logit(endog=labels, exog=sm.add_constant(ex))\n",
    "    res = model.fit(maxiter=1000, method='bfgs', skip_hessian=True)\n",
    "\n",
    "    # test\n",
    "    d = data['test']\n",
    "    labels = np.array([d[i][2] for i in range(len(d))])\n",
    "    ex = np.array([np.array(item[1], dtype=np.float) for item in d])\n",
    "    out = res.predict(sm.add_constant(ex))\n",
    "    \n",
    "    out_class = (out > 0.5).astype(np.int)\n",
    "    # calc score and append\n",
    "    results_adni.append(\n",
    "        {'balanced_accuracy': balanced_accuracy_score(y_true=labels, y_pred=out_class),\n",
    "        'confusion_matrix': confusion_matrix(y_true=labels, y_pred=out_class),\n",
    "        'roc_auc': roc_auc_score(y_true=labels, y_score=out),\n",
    "        'average_precision': average_precision_score(y_true=labels, y_score=out)}\n",
    "    )\n",
    "    \n",
    "    # save weights\n",
    "    np.savetxt('weights_log_reg_binary_' + str(seed) + '.csv', res.params, delimiter=\",\")\n",
    "    \n",
    "print(f'BAcc: ' + utils.round_val(np.mean([item['balanced_accuracy'] for item in results_adni]))+ '$\\pm$'+  utils.round_val(np.std([item['balanced_accuracy'] for item in results_adni])))\n",
    "print([float(utils.round_val(x['balanced_accuracy'])) for x in results_adni])\n",
    "create_mat_binary(results_adni, path='../figs/2LogRegADNI.pdf', figsize=(4,4.3))\n"
   ]
  },
  {
   "cell_type": "code",
   "execution_count": null,
   "metadata": {},
   "outputs": [],
   "source": []
  }
 ],
 "metadata": {
  "kernelspec": {
   "display_name": "Python 3",
   "language": "python",
   "name": "python3"
  },
  "language_info": {
   "codemirror_mode": {
    "name": "ipython",
    "version": 3
   },
   "file_extension": ".py",
   "mimetype": "text/x-python",
   "name": "python",
   "nbconvert_exporter": "python",
   "pygments_lexer": "ipython3",
   "version": "3.7.7"
  }
 },
 "nbformat": 4,
 "nbformat_minor": 4
}
